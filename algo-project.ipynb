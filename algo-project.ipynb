{
 "cells": [
  {
   "cell_type": "markdown",
   "metadata": {},
   "source": [
    "# Algorithm Project"
   ]
  },
  {
   "cell_type": "markdown",
   "metadata": {},
   "source": [
    "Objective for this project is to learn about algorithms with Python. \n",
    "\n",
    "We imagine that we own an online laptop store (+1000 laptops) and we need a way to answer few questions about our inventory. \n",
    "\n",
    "The dataset can be found here: https://www.kaggle.com/datasets/muhammetvarl/laptop-price"
   ]
  },
  {
   "cell_type": "markdown",
   "metadata": {},
   "source": [
    "To do list\n",
    "1. Import csv module\n",
    "2. Read the file using with open function\n",
    "3. No need to worry about the encoding (it is UTF-8)\n",
    "4. Assign the first row as header\n",
    "5. Assign the rest of the rows as rows\n",
    "6. Pring the header and the first three rows"
   ]
  },
  {
   "cell_type": "code",
   "execution_count": 80,
   "metadata": {},
   "outputs": [
    {
     "name": "stdout",
     "output_type": "stream",
     "text": [
      "['Id', 'Company', 'Product', 'TypeName', 'Inches', 'ScreenResolution', 'Cpu', 'Ram', 'Memory', 'Gpu', 'OpSys', 'Weight', 'Price']\n",
      "['6571244', 'Apple', 'MacBook Pro', 'Ultrabook', '13.3', 'IPS Panel Retina Display 2560x1600', 'Intel Core i5 2.3GHz', '8GB', '128GB SSD', 'Intel Iris Plus Graphics 640', 'macOS', '1.37kg', '1339']\n",
      "['7287764', 'Apple', 'Macbook Air', 'Ultrabook', '13.3', '1440x900', 'Intel Core i5 1.8GHz', '8GB', '128GB Flash Storage', 'Intel HD Graphics 6000', 'macOS', '1.34kg', '898']\n",
      "['3362737', 'HP', '250 G6', 'Notebook', '15.6', 'Full HD 1920x1080', 'Intel Core i5 7200U 2.5GHz', '8GB', '256GB SSD', 'Intel HD Graphics 620', 'No OS', '1.86kg', '575']\n"
     ]
    }
   ],
   "source": [
    "import csv\n",
    "\n",
    "with open(\"laptops.csv\") as file:\n",
    "    reader = csv.reader(file)\n",
    "    rows = list(reader)\n",
    "    header = rows[0]\n",
    "    rows = rows[1:]\n",
    "\n",
    "print(header)    \n",
    "for i in range(3):\n",
    "    print(rows[i])\n",
    "    "
   ]
  },
  {
   "cell_type": "markdown",
   "metadata": {},
   "source": [
    "First phase is completed - awesome!"
   ]
  },
  {
   "cell_type": "markdown",
   "metadata": {},
   "source": [
    "Next we want to create a class that represents our inventory. The methods inside this class will implement the queries to find the answers to our burning questions. \n",
    "\n",
    "To do list:\n",
    "7. Create a class\n",
    "8. Define a constructor method\n",
    "9. Read the file\n",
    "10. Assign the first row as self.header\n",
    "11. Assign the rest of the rows as self.rows\n",
    "12. Convert the prices from strings into integers\n",
    "13. Test the class by creating an instance \n",
    "14. Print the header and the number of rows"
   ]
  },
  {
   "cell_type": "code",
   "execution_count": 81,
   "metadata": {},
   "outputs": [
    {
     "name": "stdout",
     "output_type": "stream",
     "text": [
      "['Id', 'Company', 'Product', 'TypeName', 'Inches', 'ScreenResolution', 'Cpu', 'Ram', 'Memory', 'Gpu', 'OpSys', 'Weight', 'Price']\n",
      "1303\n"
     ]
    }
   ],
   "source": [
    "class Inventory():\n",
    "    \n",
    "    def __init__(self, csv_filename):\n",
    "        with open(csv_filename) as file:\n",
    "            reader = csv.reader(file)\n",
    "            rows = list(reader)\n",
    "            self.header = rows[0]\n",
    "            self.rows = rows[1:]\n",
    "            for row in self.rows:\n",
    "                row[-1] = int(row[-1])\n",
    "                \n",
    "inventory = Inventory(\"laptops.csv\")\n",
    "print(inventory.header)\n",
    "print(len(inventory.rows))"
   ]
  },
  {
   "cell_type": "markdown",
   "metadata": {},
   "source": [
    "Now the second phase is completed, we now have a class with a constructor method, which we can call. \n",
    "\n",
    "Next we want to create an algorithm, which allows us to search any given laptop by its identificatio number. \n",
    "To do list:\n",
    "15. Create a new method in our class\n",
    "16. Use for loop to check if there is laptop whose id is the same as searched\n",
    "17. Test the class by creating an instance and calling the method with two different arguments. "
   ]
  },
  {
   "cell_type": "code",
   "execution_count": 82,
   "metadata": {},
   "outputs": [
    {
     "name": "stdout",
     "output_type": "stream",
     "text": [
      "['3362737', 'HP', '250 G6', 'Notebook', '15.6', 'Full HD 1920x1080', 'Intel Core i5 7200U 2.5GHz', '8GB', '256GB SSD', 'Intel HD Graphics 620', 'No OS', '1.86kg', 575]\n",
      "None\n"
     ]
    }
   ],
   "source": [
    "class Inventory():\n",
    "    \n",
    "    def __init__(self, csv_filename):\n",
    "        with open(csv_filename) as file:\n",
    "            reader = csv.reader(file)\n",
    "            rows = list(reader)\n",
    "            self.header = rows[0]\n",
    "            self.rows = rows[1:]\n",
    "            for row in self.rows:\n",
    "                row[-1] = int(row[-1])\n",
    "                \n",
    "    def get_laptop_from_id(self, laptop_id):\n",
    "        for row in self.rows:\n",
    "            if row[0] == laptop_id:\n",
    "                return row\n",
    "        return None                          \n",
    "\n",
    "inventory = Inventory(\"laptops.csv\")\n",
    "print(inventory.get_laptop_from_id('3362737'))\n",
    "print(inventory.get_laptop_from_id('3362736'))"
   ]
  },
  {
   "cell_type": "markdown",
   "metadata": {},
   "source": [
    "And just like that, our third phase is completed! By using a simple for loop, we are able to check our inventory for the given identifier number. \n",
    "\n",
    "Next we want to improve our algorithm because the algorithm above has time complexity O(R) where R is the number of rows. If we double the amount of rows, the performance will be halved. The solution is to do some preprocessing, which allows us to be more efficient.\n",
    "\n",
    "To do list:\n",
    "18. Assign an empty dictionary to the contructor method\n",
    "19. Loop through the rows and assign the id as the key and rest as value\n",
    "20. Create a new method inside our class\n",
    "21. Check the dictionary for the given identifier number\n",
    "22. Test the class by creating an instance with two different arguments"
   ]
  },
  {
   "cell_type": "code",
   "execution_count": 83,
   "metadata": {},
   "outputs": [
    {
     "name": "stdout",
     "output_type": "stream",
     "text": [
      "['3362737', 'HP', '250 G6', 'Notebook', '15.6', 'Full HD 1920x1080', 'Intel Core i5 7200U 2.5GHz', '8GB', '256GB SSD', 'Intel HD Graphics 620', 'No OS', '1.86kg', 575]\n",
      "None\n"
     ]
    }
   ],
   "source": [
    "class Inventory():\n",
    "    \n",
    "    def __init__(self, csv_filename):\n",
    "        with open(csv_filename) as file:\n",
    "            reader = csv.reader(file)\n",
    "            rows = list(reader)\n",
    "            self.header = rows[0]\n",
    "            self.rows = rows[1:]\n",
    "            for row in self.rows:\n",
    "                row[-1] = int(row[-1])\n",
    "            self.id_to_row = {}\n",
    "            for row in self.rows:\n",
    "                self.id_to_row[row[0]] = row\n",
    "                \n",
    "    def get_laptop_from_id(self, laptop_id):\n",
    "        for row in self.rows:\n",
    "            if row[0] == laptop_id:\n",
    "                return row\n",
    "        return None   \n",
    "    \n",
    "    def get_laptop_from_id_fast(self, laptop_id):  \n",
    "        if laptop_id in self.id_to_row:           \n",
    "            return self.id_to_row[laptop_id]\n",
    "        return None\n",
    "\n",
    "inventory = Inventory(\"laptops.csv\")\n",
    "print(inventory.get_laptop_from_id('3362737'))\n",
    "print(inventory.get_laptop_from_id('3362736'))"
   ]
  },
  {
   "cell_type": "markdown",
   "metadata": {},
   "source": [
    "Fourth phase is completed! Now we have a different algorithm that can give us the laptop based on its id. But how do we know that the new algorithm is better than the previous one? We need to test it! We can compare the performance with time module.\n",
    "\n",
    "To do list:\n",
    "23. Import time and random modules\n",
    "24. Create a list with 10,000 random values using str function\n",
    "25. Create an instance \n",
    "26. Create a new variable with zero value and aggregate the time to it with our old algorithm\n",
    "27. Do the same for the new algorithm\n",
    "28. Print the values"
   ]
  },
  {
   "cell_type": "code",
   "execution_count": 84,
   "metadata": {},
   "outputs": [
    {
     "name": "stdout",
     "output_type": "stream",
     "text": [
      "1.6042428016662598\n",
      "0.0057179927825927734\n"
     ]
    }
   ],
   "source": [
    "import time\n",
    "import random\n",
    "\n",
    "ids = [str(random.randint(1000000, 9999999)) for _ in range(10000)]\n",
    "\n",
    "inventory = Inventory(\"laptops.csv\")\n",
    "\n",
    "total_time_no_dict = 0\n",
    "for identifier in ids:\n",
    "    start = time.time()\n",
    "    inventory.get_laptop_from_id(identifier)\n",
    "    end = time.time()\n",
    "    total_time_no_dict += end - start\n",
    "\n",
    "\n",
    "total_time_dict = 0\n",
    "for identifier in ids:\n",
    "    start = time.time()\n",
    "    inventory.get_laptop_from_id_fast(identifier)\n",
    "    end = time.time()\n",
    "    total_time_dict += end - start\n",
    "    \n",
    "print(total_time_no_dict)\n",
    "print(total_time_dict)"
   ]
  },
  {
   "cell_type": "markdown",
   "metadata": {},
   "source": [
    "And now we have our fifth phase completed. Our new algorithm is about 300 times faster than our old one. Talk about improvement!\n",
    "\n",
    "Next we want to add a new function into our class that can check whether it is possible to buy one or two laptops with the given amount of money.\n",
    "To do list:\n",
    "29. Create a new method\n",
    "30. Loop through the rows to check if any single laptop matches with the price\n",
    "31. Use double for loop to check if we can add any rows to achieve the given price\n",
    "32. Test the class"
   ]
  },
  {
   "cell_type": "code",
   "execution_count": 85,
   "metadata": {},
   "outputs": [
    {
     "name": "stdout",
     "output_type": "stream",
     "text": [
      "True\n",
      "False\n"
     ]
    }
   ],
   "source": [
    "class Inventory():\n",
    "    \n",
    "    def __init__(self, csv_filename):\n",
    "        with open(csv_filename) as file:\n",
    "            reader = csv.reader(file)\n",
    "            rows = list(reader)\n",
    "            self.header = rows[0]\n",
    "            self.rows = rows[1:]\n",
    "            for row in self.rows:\n",
    "                row[-1] = int(row[-1])\n",
    "            self.id_to_row = {}\n",
    "            for row in self.rows:\n",
    "                self.id_to_row[row[0]] = row\n",
    "                \n",
    "    def get_laptop_from_id(self, laptop_id):\n",
    "        for row in self.rows:\n",
    "            if row[0] == laptop_id:\n",
    "                return row\n",
    "        return None   \n",
    "    \n",
    "    def get_laptop_from_id_fast(self, laptop_id):  \n",
    "        if laptop_id in self.id_to_row:           \n",
    "            return self.id_to_row[laptop_id]\n",
    "        return None\n",
    "    \n",
    "    def check_promotion_dollars(self, dollars):\n",
    "        for row in self.rows:\n",
    "            if row[-1] == dollars:\n",
    "                return True\n",
    "        for row1 in self.rows:\n",
    "            for row2 in self.rows:\n",
    "                if row1[-1] + row2[-1] == dollars:\n",
    "                    return True\n",
    "        return False\n",
    "        \n",
    "    \n",
    "\n",
    "\n",
    "inventory = Inventory(\"laptops.csv\")\n",
    "print(inventory.check_promotion_dollars(1000))\n",
    "print(inventory.check_promotion_dollars(442))"
   ]
  },
  {
   "cell_type": "markdown",
   "metadata": {},
   "source": [
    "That is it for the sixth phase! Now we have a function that checks whether there are one or two laptops with the given money amount. \n",
    "\n",
    "Next we want to optimize our previous function with the same methods as before. \n",
    "\n",
    "To do list:\n",
    "33. Assign an empty set into our constructor class\n",
    "34. Loop through the rows and assign the price into the set\n",
    "35. Create a new method\n",
    "36. Check if there is one laptop with the given price\n",
    "37. Use double for loop to check if any two prices added together equal the price given\n",
    "38. Test the class with an instance"
   ]
  },
  {
   "cell_type": "code",
   "execution_count": 86,
   "metadata": {},
   "outputs": [
    {
     "name": "stdout",
     "output_type": "stream",
     "text": [
      "True\n",
      "False\n"
     ]
    }
   ],
   "source": [
    "class Inventory():\n",
    "    \n",
    "    def __init__(self, csv_filename):\n",
    "        with open(csv_filename) as file:\n",
    "            reader = csv.reader(file)\n",
    "            rows = list(reader)\n",
    "            self.header = rows[0]\n",
    "            self.rows = rows[1:]\n",
    "            for row in self.rows:\n",
    "                row[-1] = int(row[-1])\n",
    "            self.id_to_row = {}\n",
    "            for row in self.rows:\n",
    "                self.id_to_row[row[0]] = row\n",
    "            self.prices = set()\n",
    "            for row in self.rows:\n",
    "                self.prices.add(row[-1])\n",
    "                \n",
    "    def get_laptop_from_id(self, laptop_id):\n",
    "        for row in self.rows:\n",
    "            if row[0] == laptop_id:\n",
    "                return row\n",
    "        return None   \n",
    "    \n",
    "    def get_laptop_from_id_fast(self, laptop_id):  \n",
    "        if laptop_id in self.id_to_row:           \n",
    "            return self.id_to_row[laptop_id]\n",
    "        return None\n",
    "    \n",
    "    def check_promotion_dollars(self, dollars):\n",
    "        for row in self.rows:\n",
    "            if row[-1] == dollars:\n",
    "                return True\n",
    "        for row1 in self.rows:\n",
    "            for row2 in self.rows:\n",
    "                if row1[-1] + row2[-1] == dollars:\n",
    "                    return True\n",
    "        return False\n",
    "        \n",
    "    def check_promotion_dollars_fast(self, dollars):\n",
    "        \n",
    "        if dollars in self.prices:\n",
    "            return True\n",
    "        for price in self.prices:                  \n",
    "            if dollars - price in self.prices:\n",
    "                return True\n",
    "        return False\n",
    "\n",
    "inventory = Inventory(\"laptops.csv\")\n",
    "print(inventory.check_promotion_dollars_fast(1000))\n",
    "print(inventory.check_promotion_dollars_fast(442))"
   ]
  },
  {
   "cell_type": "markdown",
   "metadata": {},
   "source": [
    "Our seventh phase is now completed as we used set() instead of for loop to get the answer! \n",
    "\n",
    "Next we are going to compare the functions just like we did with the previous functions.\n",
    "\n",
    "To do list:\n",
    "39. Generate a list with 100 random values\n",
    "40. Create an instance\n",
    "41. Initialize a variable with zero value\n",
    "42. Aggregate the time with the old function\n",
    "43. Do the same with the new function\n",
    "44. Print the values"
   ]
  },
  {
   "cell_type": "code",
   "execution_count": 87,
   "metadata": {},
   "outputs": [
    {
     "name": "stdout",
     "output_type": "stream",
     "text": [
      "2.678642749786377\n",
      "0.0010428428649902344\n"
     ]
    }
   ],
   "source": [
    "prices = [random.randint(100, 5000) for _ in range(100)]\n",
    "\n",
    "inventory = Inventory(\"laptops.csv\")\n",
    "\n",
    "total_time_no_set = 0\n",
    "for value in prices:\n",
    "    start = time.time()\n",
    "    inventory.check_promotion_dollars(value)\n",
    "    end = time.time()\n",
    "    total_time_no_set += end - start\n",
    "\n",
    "total_time_set = 0\n",
    "for value in prices:\n",
    "    start = time.time()\n",
    "    inventory.check_promotion_dollars_fast(value)\n",
    "    end = time.time()\n",
    "    total_time_set += end - start\n",
    "    \n",
    "print(total_time_no_set)\n",
    "print(total_time_set)"
   ]
  },
  {
   "cell_type": "markdown",
   "metadata": {},
   "source": [
    "Eight phase completed! We can see that our new function is about 3000x faster than the old one. Talk about progress!\n",
    "\n",
    "The last objective for us is to create a function that will find all the laptops, which price is equal or below the given price. \n",
    "To do list:\n",
    "45. Add a sorted() function into the constructor method\n",
    "46. Implement a new method that is based on the binary search algorithm\n",
    "47. Test the class by creating an instance with two different arguments."
   ]
  },
  {
   "cell_type": "code",
   "execution_count": 92,
   "metadata": {},
   "outputs": [
    {
     "name": "stdout",
     "output_type": "stream",
     "text": [
      "683\n",
      "-1\n"
     ]
    }
   ],
   "source": [
    "def row_price(row):\n",
    "    return row[-1]\n",
    "\n",
    "class Inventory():\n",
    "    \n",
    "    def __init__(self, csv_filename):\n",
    "        with open(csv_filename) as file:\n",
    "            reader = csv.reader(file)\n",
    "            rows = list(reader)\n",
    "            self.header = rows[0]\n",
    "            self.rows = rows[1:]\n",
    "            for row in self.rows:\n",
    "                row[-1] = int(row[-1])\n",
    "            self.id_to_row = {}\n",
    "            for row in self.rows:\n",
    "                self.id_to_row[row[0]] = row\n",
    "            self.prices = set()\n",
    "            for row in self.rows:\n",
    "                self.prices.add(row[-1])\n",
    "            self.rows_by_price = sorted(self.rows, key=row_price)\n",
    "                \n",
    "    def get_laptop_from_id(self, laptop_id):\n",
    "        for row in self.rows:\n",
    "            if row[0] == laptop_id:\n",
    "                return row\n",
    "        return None   \n",
    "    \n",
    "    def get_laptop_from_id_fast(self, laptop_id):  \n",
    "        if laptop_id in self.id_to_row:           \n",
    "            return self.id_to_row[laptop_id]\n",
    "        return None\n",
    "    \n",
    "    def check_promotion_dollars(self, dollars):\n",
    "        for row in self.rows:\n",
    "            if row[-1] == dollars:\n",
    "                return True\n",
    "        for row1 in self.rows:\n",
    "            for row2 in self.rows:\n",
    "                if row1[-1] + row2[-1] == dollars:\n",
    "                    return True\n",
    "        return False\n",
    "        \n",
    "    def check_promotion_dollars_fast(self, dollars):\n",
    "        \n",
    "        if dollars in self.prices:\n",
    "            return True\n",
    "        for price in self.prices:                  \n",
    "            if dollars - price in self.prices:\n",
    "                return True\n",
    "        return False\n",
    "    \n",
    "    def find_laptop_with_price(self, target_price):\n",
    "        range_start = 0                                   \n",
    "        range_end = len(self.rows_by_price) - 1                       \n",
    "        while range_start < range_end:\n",
    "            range_middle = (range_end + range_start) // 2  \n",
    "            value = self.rows_by_price[range_middle][-1]\n",
    "            if value == target_price:                            \n",
    "                return range_middle                        \n",
    "            elif value < target_price:                           \n",
    "                range_start = range_middle + 1             \n",
    "            else:                                          \n",
    "                range_end = range_middle - 1 \n",
    "        if self.rows_by_price[range_start][-1] != target_price:                  \n",
    "            return -1                                      \n",
    "        return range_start\n",
    "    \n",
    "    def find_first_laptop_more_expensive(self, target_price):\n",
    "        range_start = 0\n",
    "        range_end = len(self.rows_by_price) - 1\n",
    "        while range_start < range_end:\n",
    "            range_middle = (range_end + range_start) // 2\n",
    "            price = self.rows_by_price[range_middle][-1]\n",
    "            if price > target_price:\n",
    "                range_end = range_middle\n",
    "            else:\n",
    "                range_start = range_middle + 1\n",
    "        if self.rows_by_price[range_start][-1] <= target_price:\n",
    "            return -1\n",
    "        return range_start\n",
    "\n",
    "inventory = Inventory(\"laptops.csv\")\n",
    "print(inventory.find_first_laptop_more_expensive(1000))\n",
    "print(inventory.find_first_laptop_more_expensive(10000))"
   ]
  },
  {
   "cell_type": "markdown",
   "metadata": {},
   "source": [
    "There we have it, the whole project completed! It took me about 4-5 days and countless hours to learn and experiment. There were about 47 steps. \n",
    "\n",
    "What I learned during this project:\n",
    "1. Python syntax\n",
    "2. Object-oriented programming\n",
    "3. Difference between algorithms"
   ]
  }
 ],
 "metadata": {
  "kernelspec": {
   "display_name": "Python 3",
   "language": "python",
   "name": "python3"
  },
  "language_info": {
   "codemirror_mode": {
    "name": "ipython",
    "version": 3
   },
   "file_extension": ".py",
   "mimetype": "text/x-python",
   "name": "python",
   "nbconvert_exporter": "python",
   "pygments_lexer": "ipython3",
   "version": "3.8.2"
  }
 },
 "nbformat": 4,
 "nbformat_minor": 4
}
